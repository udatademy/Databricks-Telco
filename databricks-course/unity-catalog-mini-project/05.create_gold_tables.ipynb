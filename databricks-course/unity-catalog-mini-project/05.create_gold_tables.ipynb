{
 "cells": [
  {
   "cell_type": "markdown",
   "metadata": {
    "application/vnd.databricks.v1+cell": {
     "cellMetadata": {},
     "inputWidgets": {},
     "nuid": "5b7d8ef4-15b1-4a05-9319-fc8721e3e937",
     "showTitle": false,
     "tableResultSettingsMap": {},
     "title": ""
    }
   },
   "source": [
    "### Crear Managed Table en el Schema gold\n",
    "- usar JOIN en las tablas \"clientes\" y \"detalles\" para obtener los \"ingresos por clientes\""
   ]
  },
  {
   "cell_type": "code",
   "execution_count": 0,
   "metadata": {
    "application/vnd.databricks.v1+cell": {
     "cellMetadata": {
      "byteLimit": 2048000,
      "rowLimit": 10000
     },
     "inputWidgets": {},
     "nuid": "042c25f4-3db3-48f5-bf13-c79ba52690dc",
     "showTitle": false,
     "tableResultSettingsMap": {},
     "title": ""
    }
   },
   "outputs": [],
   "source": [
    "DROP TABLE IF EXISTS telco_dev.gold.ingreso_por_cliente;\n",
    "\n",
    "CREATE TABLE telco_dev.gold.ingreso_por_cliente\n",
    "AS\n",
    "  SELECT C.nombre_completo, SUM(D.precio_mensual) AS ingreso\n",
    "  FROM telco_dev.silver.clientes C \n",
    "  INNER JOIN telco_dev.silver.detalles D\n",
    "  ON C.cliente_id = D.cliente_id\n",
    "  WHERE D.estado = true\n",
    "  GROUP BY C.nombre_completo\n",
    "  ORDER BY ingreso DESC"
   ]
  },
  {
   "cell_type": "code",
   "execution_count": 0,
   "metadata": {
    "application/vnd.databricks.v1+cell": {
     "cellMetadata": {
      "byteLimit": 2048000,
      "rowLimit": 10000
     },
     "inputWidgets": {},
     "nuid": "38ff533e-57cc-4632-bcb1-cb279141b44e",
     "showTitle": false,
     "tableResultSettingsMap": {},
     "title": ""
    }
   },
   "outputs": [],
   "source": [
    "SELECT * FROM telco_dev.gold.ingreso_por_cliente;"
   ]
  }
 ],
 "metadata": {
  "application/vnd.databricks.v1+notebook": {
   "computePreferences": null,
   "dashboards": [],
   "environmentMetadata": {
    "base_environment": "",
    "client": "1"
   },
   "language": "sql",
   "notebookMetadata": {
    "pythonIndentUnit": 4
   },
   "notebookName": "05.create_gold_tables",
   "widgets": {}
  },
  "language_info": {
   "name": "sql"
  }
 },
 "nbformat": 4,
 "nbformat_minor": 0
}
