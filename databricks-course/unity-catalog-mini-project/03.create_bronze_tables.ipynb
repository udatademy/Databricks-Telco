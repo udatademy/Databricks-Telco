{
 "cells": [
  {
   "cell_type": "markdown",
   "metadata": {
    "application/vnd.databricks.v1+cell": {
     "cellMetadata": {},
     "inputWidgets": {},
     "nuid": "456d82a4-8088-47ce-bbe0-3d155e6d1365",
     "showTitle": false,
     "tableResultSettingsMap": {},
     "title": ""
    }
   },
   "source": [
    "### Crear Tablas en el Schema Bronze\n",
    "1. clientes.csv desde \"abfss://bronze@sadatabricksext.dfs.core.windows.net/clientes.csv\"\n",
    "2. detalles.csv desde \"abfss://bronze@sadatabricksext.dfs.core.windows.net/detalles.csv\"\n"
   ]
  },
  {
   "cell_type": "code",
   "execution_count": 0,
   "metadata": {
    "application/vnd.databricks.v1+cell": {
     "cellMetadata": {
      "byteLimit": 2048000,
      "rowLimit": 10000
     },
     "inputWidgets": {},
     "nuid": "1c8e175b-d952-4faf-b583-d1ad927df8e9",
     "showTitle": false,
     "tableResultSettingsMap": {},
     "title": ""
    }
   },
   "outputs": [],
   "source": [
    "DROP TABLE IF EXISTS telco_dev.bronze.clientes;\n",
    "\n",
    "CREATE TABLE IF NOT EXISTS telco_dev.bronze.clientes(\n",
    "  clienteId INT,\n",
    "  nombre STRING,\n",
    "  paterno STRING,\n",
    "  materno STRING,\n",
    "  documentoIdentidad STRING,\n",
    "  telefono STRING,\n",
    "  email STRING,\n",
    "  direccion STRING\n",
    ")\n",
    "USING CSV\n",
    "OPTIONS (path \"abfss://bronze@sadatabricksext.dfs.core.windows.net/clientes.csv\", demiliter \";\", header \"true\")"
   ]
  },
  {
   "cell_type": "code",
   "execution_count": 0,
   "metadata": {
    "application/vnd.databricks.v1+cell": {
     "cellMetadata": {
      "byteLimit": 2048000,
      "rowLimit": 10000
     },
     "inputWidgets": {},
     "nuid": "fc9defc0-3cc6-45af-a908-2ff10196d46a",
     "showTitle": false,
     "tableResultSettingsMap": {},
     "title": ""
    }
   },
   "outputs": [],
   "source": [
    "SELECT * FROM telco_dev.bronze.clientes;"
   ]
  },
  {
   "cell_type": "code",
   "execution_count": 0,
   "metadata": {
    "application/vnd.databricks.v1+cell": {
     "cellMetadata": {
      "byteLimit": 2048000,
      "rowLimit": 10000
     },
     "inputWidgets": {},
     "nuid": "71f8d230-4bfc-4f5c-8440-29ea97cb5b01",
     "showTitle": false,
     "tableResultSettingsMap": {},
     "title": ""
    }
   },
   "outputs": [],
   "source": [
    "DROP TABLE IF EXISTS telco_dev.bronze.detalles;\n",
    "\n",
    "CREATE TABLE IF NOT EXISTS telco_dev.bronze.detalles(\n",
    "  detalleId INT,\n",
    "  clienteId INT,\n",
    "  servicio STRING,\n",
    "  plan STRING,\n",
    "  precioMensual DECIMAL(5,2),\n",
    "  estado BOOLEAN,\n",
    "  fechaInicio DATE,\n",
    "  fechaFin DATE\n",
    ")\n",
    "USING CSV\n",
    "OPTIONS(path \"abfss://bronze@sadatabricksext.dfs.core.windows.net/detalles.csv\", delimiter \";\", header \"true\")"
   ]
  },
  {
   "cell_type": "code",
   "execution_count": 0,
   "metadata": {
    "application/vnd.databricks.v1+cell": {
     "cellMetadata": {
      "byteLimit": 2048000,
      "rowLimit": 10000
     },
     "inputWidgets": {},
     "nuid": "057307e9-f720-434b-aba2-ef7bff9a3301",
     "showTitle": false,
     "tableResultSettingsMap": {},
     "title": ""
    }
   },
   "outputs": [],
   "source": [
    "SELECT * FROM telco_dev.bronze.detalles;"
   ]
  }
 ],
 "metadata": {
  "application/vnd.databricks.v1+notebook": {
   "computePreferences": null,
   "dashboards": [],
   "environmentMetadata": {
    "base_environment": "",
    "client": "1"
   },
   "language": "sql",
   "notebookMetadata": {
    "pythonIndentUnit": 4
   },
   "notebookName": "03.create_bronze_tables",
   "widgets": {}
  },
  "language_info": {
   "name": "sql"
  }
 },
 "nbformat": 4,
 "nbformat_minor": 0
}
