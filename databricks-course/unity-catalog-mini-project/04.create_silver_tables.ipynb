{
 "cells": [
  {
   "cell_type": "markdown",
   "metadata": {
    "application/vnd.databricks.v1+cell": {
     "cellMetadata": {},
     "inputWidgets": {},
     "nuid": "b43c069e-eecf-4e4f-9511-1d5451d9b5a7",
     "showTitle": false,
     "tableResultSettingsMap": {},
     "title": ""
    }
   },
   "source": [
    "### Crear Managed Table en el Schema silver\n",
    "1. clientes\n",
    "2. detalles"
   ]
  },
  {
   "cell_type": "code",
   "execution_count": 0,
   "metadata": {
    "application/vnd.databricks.v1+cell": {
     "cellMetadata": {
      "byteLimit": 2048000,
      "rowLimit": 10000
     },
     "inputWidgets": {},
     "nuid": "d4c50a70-8733-4030-87eb-0e582b0a6fcf",
     "showTitle": false,
     "tableResultSettingsMap": {},
     "title": ""
    }
   },
   "outputs": [],
   "source": [
    "DROP TABLE IF EXISTS telco_dev.silver.clientes;\n",
    "\n",
    "CREATE TABLE IF NOT EXISTS telco_dev.silver.clientes\n",
    "AS\n",
    "  SELECT\n",
    "  clienteId AS cliente_id,\n",
    "  CONCAT(nombre, ' ', paterno, ' ', materno) AS nombre_completo,\n",
    "  documentoIdentidad AS documento_identidad,\n",
    "  telefono, \n",
    "  email,\n",
    "  direccion,\n",
    "  current_timestamp() AS ingestion_date\n",
    "  FROM telco_dev.bronze.clientes;"
   ]
  },
  {
   "cell_type": "code",
   "execution_count": 0,
   "metadata": {
    "application/vnd.databricks.v1+cell": {
     "cellMetadata": {
      "byteLimit": 2048000,
      "rowLimit": 10000
     },
     "inputWidgets": {},
     "nuid": "cf43789d-99cc-497c-becc-2355feb2ad02",
     "showTitle": false,
     "tableResultSettingsMap": {},
     "title": ""
    }
   },
   "outputs": [],
   "source": [
    "SELECT * FROM telco_dev.silver.clientes;"
   ]
  },
  {
   "cell_type": "code",
   "execution_count": 0,
   "metadata": {
    "application/vnd.databricks.v1+cell": {
     "cellMetadata": {
      "byteLimit": 2048000,
      "rowLimit": 10000
     },
     "inputWidgets": {},
     "nuid": "d4624a4b-142b-4bb6-860d-9fc8ff2d3f01",
     "showTitle": false,
     "tableResultSettingsMap": {},
     "title": ""
    }
   },
   "outputs": [],
   "source": [
    "DROP TABLE IF EXISTS telco_dev.silver.detalles;\n",
    "\n",
    "CREATE TABLE IF NOT EXISTS telco_dev.silver.detalles\n",
    "AS\n",
    "  SELECT\n",
    "  detalleId AS detalle_id,\n",
    "  clienteId AS cliente_id,\n",
    "  servicio,\n",
    "  plan,\n",
    "  precioMensual AS precio_mensual,\n",
    "  estado,\n",
    "  fechaInicio AS fecha_inicio,\n",
    "  fechaFin AS fecha_fin,\n",
    "  current_timestamp() AS ingestion_date\n",
    "  FROM telco_dev.bronze.detalles;"
   ]
  },
  {
   "cell_type": "code",
   "execution_count": 0,
   "metadata": {
    "application/vnd.databricks.v1+cell": {
     "cellMetadata": {
      "byteLimit": 2048000,
      "rowLimit": 10000
     },
     "inputWidgets": {},
     "nuid": "23cbaa94-b89e-45c7-97c1-2c1802a74023",
     "showTitle": false,
     "tableResultSettingsMap": {},
     "title": ""
    }
   },
   "outputs": [],
   "source": [
    "SELECT * FROM telco_dev.silver.detalles;"
   ]
  }
 ],
 "metadata": {
  "application/vnd.databricks.v1+notebook": {
   "computePreferences": null,
   "dashboards": [],
   "environmentMetadata": {
    "base_environment": "",
    "client": "1"
   },
   "language": "sql",
   "notebookMetadata": {
    "pythonIndentUnit": 4
   },
   "notebookName": "04.create_silver_tables",
   "widgets": {}
  },
  "language_info": {
   "name": "sql"
  }
 },
 "nbformat": 4,
 "nbformat_minor": 0
}
